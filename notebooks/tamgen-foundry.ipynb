{
 "cells": [
  {
   "cell_type": "code",
   "execution_count": 1,
   "metadata": {},
   "outputs": [],
   "source": [
    "import base64\n",
    "import json\n",
    "import os\n",
    "import random\n",
    "import tempfile\n",
    "import urllib.parse\n",
    "import urllib.request\n",
    "from pathlib import Path\n",
    "\n",
    "import fairseq\n",
    "import numpy as np\n",
    "import requests\n",
    "from Bio.PDB import PDBParser\n",
    "from rdkit import Chem"
   ]
  },
  {
   "cell_type": "markdown",
   "metadata": {},
   "source": [
    "## TamGen: Target-aware Molecule Generation for Drug Design Using a Chemical Language Model\n",
    "\n",
    "TamGen is a chemical language model that enables target-aware molecule generation and compound refinement, with the goal of accelerating the process of drug design. In this notebook, we provide a basic pipeline that leverages the TamGen model to generate new compounds based on existing protein-ligand structures in the PDB (Protein Data Bank). For more details, please refer to our [article](https://www.nature.com/articles/s41467-024-53632-4) on Nature Communications!"
   ]
  },
  {
   "cell_type": "markdown",
   "metadata": {},
   "source": [
    "Provide the PDB ID of a protein of interest. A good resource for searching the PDB is [RCSB](https://www.rcsb.org/)."
   ]
  },
  {
   "cell_type": "code",
   "execution_count": 2,
   "metadata": {},
   "outputs": [
    {
     "name": "stdout",
     "output_type": "stream",
     "text": [
      "/tmp/tmpms5w96z8tamgen-foundry-demo\n"
     ]
    }
   ],
   "source": [
    "pdb_id = \"7vh8\"\n",
    "\n",
    "work_dir = tempfile.mkdtemp(\"tamgen-foundry-demo\")\n",
    "print(work_dir)"
   ]
  },
  {
   "cell_type": "markdown",
   "metadata": {},
   "source": [
    "We now query RCSB for the ligands associated with this PDB structure. This information is also available on the web interface."
   ]
  },
  {
   "cell_type": "code",
   "execution_count": 3,
   "metadata": {},
   "outputs": [
    {
     "name": "stdout",
     "output_type": "stream",
     "text": [
      "[\n",
      "    {\n",
      "        \"name\": \"(1R,2S,5S)-N-{(1E,2S)-1-imino-3-[(3S)-2-oxopyrrolidin-3-yl]propan-2-yl}-6,6-dimethyl-3-[3-methyl-N-(trifluoroacetyl)-L-valyl]-3-azabicyclo[3.1.0]hexane-2-carboxamide\",\n",
      "        \"comp_id\": \"4WI\",\n",
      "        \"auth_asym_ids\": [\n",
      "            \"A\"\n",
      "        ]\n",
      "    },\n",
      "    {\n",
      "        \"name\": \"DIMETHYL SULFOXIDE\",\n",
      "        \"comp_id\": \"DMS\",\n",
      "        \"auth_asym_ids\": [\n",
      "            \"A\"\n",
      "        ]\n",
      "    }\n",
      "]\n"
     ]
    }
   ],
   "source": [
    "entry_nonpolymer_entity_query = f\"\"\"{{\n",
    "    entry(entry_id: \"{pdb_id}\") {{\n",
    "        rcsb_id\n",
    "        rcsb_entry_container_identifiers {{\n",
    "            non_polymer_entity_ids\n",
    "        }}\n",
    "    }}\n",
    "}}\"\"\"\n",
    "\n",
    "data = requests.get(f\"https://data.rcsb.org/graphql?query={urllib.parse.quote(entry_nonpolymer_entity_query)}\")\n",
    "entity_ids = json.loads(data.text)[\"data\"][\"entry\"][\"rcsb_entry_container_identifiers\"][\"non_polymer_entity_ids\"]\n",
    "entity_ids = [\"_\".join([pdb_id, _id]).upper() for _id in entity_ids]\n",
    "\n",
    "nonpolymer_entities_query = f\"\"\"{{\n",
    "    nonpolymer_entities(entity_ids: {json.dumps(entity_ids)}) {{\n",
    "        pdbx_entity_nonpoly {{\n",
    "            name\n",
    "            comp_id\n",
    "        }}\n",
    "        rcsb_nonpolymer_entity_container_identifiers {{\n",
    "            auth_asym_ids\n",
    "        }}\n",
    "    }}\n",
    "}}\"\"\"\n",
    "\n",
    "data = requests.get(f\"https://data.rcsb.org/graphql?query={urllib.parse.quote(nonpolymer_entities_query)}\")\n",
    "nonpolymer_entities = json.loads(data.text)[\"data\"][\"nonpolymer_entities\"]\n",
    "nonpolymer_entities = [{k: v for dicts in entity.values() for k, v in dicts.items()} for entity in nonpolymer_entities]\n",
    "\n",
    "print(json.dumps(nonpolymer_entities, indent=4))"
   ]
  },
  {
   "cell_type": "markdown",
   "metadata": {},
   "source": [
    "Select the pocket (protein-ligand binding site) by specifying the ligand ID (comp_id above) and chain ID (auth_asym_ids above)."
   ]
  },
  {
   "cell_type": "code",
   "execution_count": 4,
   "metadata": {},
   "outputs": [],
   "source": [
    "ligand_id = \"4WI\" # comp_id of selected ligand (nonpolymer entity)\n",
    "chain_id = \"A\" # auth_asym_id of selected ligand (nonpolymer entity)"
   ]
  },
  {
   "cell_type": "markdown",
   "metadata": {},
   "source": [
    "#### Data Processing\n",
    "\n",
    "Before invoking the TamGen model, we need to prepare the relevant information. We first download the structure files of the protein and extract the binding site of the selected ligand."
   ]
  },
  {
   "cell_type": "code",
   "execution_count": 5,
   "metadata": {},
   "outputs": [
    {
     "name": "stdout",
     "output_type": "stream",
     "text": [
      "[\n",
      "    \"/tmp/tmpms5w96z8tamgen-foundry-demo/7vh8.cif\",\n",
      "    \"/tmp/tmpms5w96z8tamgen-foundry-demo/7vh8.pdb\"\n",
      "]\n"
     ]
    }
   ],
   "source": [
    "def download_file(url, output_path):\n",
    "    with requests.get(url, timeout=5) as r:\n",
    "        with output_path.open('w') as f:\n",
    "            f.write(r.content.decode(\"utf-8\"))\n",
    "\n",
    "input_pdb = Path(work_dir) / f\"{pdb_id}.pdb\"\n",
    "input_cif = Path(work_dir) / f\"{pdb_id}.cif\"\n",
    "download_file(f\"https://files.rcsb.org/download/{pdb_id}.pdb\", input_pdb)\n",
    "download_file(f\"https://files.rcsb.org/download/{pdb_id}.cif\", input_cif)\n",
    "\n",
    "print(json.dumps(list(map(str, Path(work_dir).iterdir())), indent=4))"
   ]
  },
  {
   "cell_type": "code",
   "execution_count": 6,
   "metadata": {},
   "outputs": [],
   "source": [
    "def get_ligand_center(input_pdb, ligand_name, chain_id):\n",
    "    parser = PDBParser()\n",
    "    structure = parser.get_structure('structure', input_pdb)\n",
    "    \n",
    "    coords = []\n",
    "    for model in structure:\n",
    "        for chain in model:\n",
    "            if chain.id != chain_id:\n",
    "                continue\n",
    "            for residue in chain:\n",
    "                if residue.resname != ligand_name:\n",
    "                    continue\n",
    "                for atom in residue:\n",
    "                    coords.append(atom.get_coord())\n",
    "    \n",
    "    return np.mean(np.array(coords), axis=0).tolist()\n",
    "\n",
    "ligand_center = get_ligand_center(input_pdb, ligand_id, chain_id)"
   ]
  },
  {
   "cell_type": "markdown",
   "metadata": {},
   "source": [
    "We query RCSB again for the SMILES (Simple Molecular Input Line Entry System) string representation of the ligand, which we can consider to be the \"language\" of molecules. The SMILES string is augmented by constructing other equivalent representations of the same molecule, which helps to diversify the output."
   ]
  },
  {
   "cell_type": "code",
   "execution_count": 7,
   "metadata": {},
   "outputs": [
    {
     "name": "stdout",
     "output_type": "stream",
     "text": [
      "[\n",
      "    \"O=C(NC(C(C)(C)C)C(N1C(C(NC(C=N)CC2C(=O)NCC2)=O)C2C(C2(C)C)C1)=O)C(F)(F)F\",\n",
      "    \"CC(C)(C)C(NC(=O)C(F)(F)F)C(=O)N1CC2C(C1C(=O)NC(C=N)CC1CCNC1=O)C2(C)C\",\n",
      "    \"C(C=N)(NC(C1N(C(C(NC(=O)C(F)(F)F)C(C)(C)C)=O)CC2C(C)(C)C21)=O)CC1CCNC1=O\",\n",
      "    \"CC1(C2C1C(N(C2)C(=O)C(C(C)(C)C)NC(=O)C(F)(F)F)C(=O)NC(CC3CCNC3=O)C=N)C\",\n",
      "    \"C1C(CC(C=N)NC(C2C3C(CN2C(C(C(C)(C)C)NC(C(F)(F)F)=O)=O)C3(C)C)=O)C(=O)NC1\"\n",
      "]\n"
     ]
    }
   ],
   "source": [
    "ligand_query = f\"\"\"{{\n",
    "    chem_comp(comp_id: \"{ligand_id}\") {{\n",
    "        rcsb_id\n",
    "        rcsb_chem_comp_descriptor {{\n",
    "            SMILES\n",
    "        }}\n",
    "    }}\n",
    "}}\"\"\"\n",
    "\n",
    "data = requests.get(f\"https://data.rcsb.org/graphql?query={urllib.parse.quote(ligand_query)}\")\n",
    "smiles = json.loads(data.text)[\"data\"][\"chem_comp\"][\"rcsb_chem_comp_descriptor\"][\"SMILES\"]\n",
    "\n",
    "def augment(smiles: str, n_augment: int):\n",
    "    augmented_smiles = set()\n",
    "\n",
    "    molecule = Chem.MolFromSmiles(smiles)\n",
    "\n",
    "    augmented_smiles.add(smiles)\n",
    "    canonical_smiles = Chem.MolToSmiles(molecule)\n",
    "    augmented_smiles.add(canonical_smiles)\n",
    "\n",
    "    indices = list(range(molecule.GetNumAtoms()))  \n",
    "    for _ in range(n_augment):\n",
    "        random.shuffle(indices) \n",
    "        _molecule = Chem.RenumberAtoms(molecule, indices) \n",
    "        candidate_smiles = Chem.MolToSmiles(_molecule, isomericSmiles=True, canonical=False)  \n",
    "\n",
    "        _molecule = Chem.MolFromSmiles(candidate_smiles)\n",
    "        if _molecule is None:\n",
    "            continue\n",
    "        canonical_candidate_smiles = Chem.MolToSmiles(_molecule)\n",
    "        if canonical_candidate_smiles == canonical_smiles:\n",
    "            augmented_smiles.add(candidate_smiles)\n",
    "\n",
    "    return augmented_smiles\n",
    "\n",
    "augmented_smiles = augment(smiles, n_augment=3)\n",
    "print(json.dumps(list(augmented_smiles), indent=4))"
   ]
  },
  {
   "cell_type": "markdown",
   "metadata": {},
   "source": [
    "We now prepare the input data that the model requires. These files are an encoding of the molecule and protein \"language\" (sequences), and provide the context necessary for target-aware generation of molecules."
   ]
  },
  {
   "cell_type": "code",
   "execution_count": 8,
   "metadata": {},
   "outputs": [],
   "source": [
    "output_dir = tempfile.mkdtemp(\"tamgen-foundry-demo-output\")"
   ]
  },
  {
   "cell_type": "code",
   "execution_count": 9,
   "metadata": {},
   "outputs": [
    {
     "name": "stdout",
     "output_type": "stream",
     "text": [
      "Namespace(no_progress_bar=False, log_interval=1000, log_format=None, tensorboard_logdir='', tbmf_wrapper=False, seed=1, cpu=False, fp16=False, memory_efficient_fp16=False, fp16_init_scale=128, fp16_scale_window=None, fp16_scale_tolerance=0.0, min_loss_scale=0.0001, threshold_loss_scale=None, user_dir=None, criterion='cross_entropy', tokenizer=None, bpe=None, optimizer='nag', lr_scheduler='fixed', task='translation', source_lang='tg', target_lang='m1', trainpref=None, validpref=None, testpref='/tmp/tmp4n42kbmptamgen-foundry-demo-output/src/test', destdir='/tmp/tmp4n42kbmptamgen-foundry-demo-output/tmp', thresholdtgt=0, thresholdsrc=0, tgtdict='/home/biran/src/fairseq/dict/dict.m1.txt', srcdict='/home/biran/src/fairseq/dict/dict.tg.txt', nwordstgt=-1, nwordssrc=-1, alignfile=None, dataset_impl='mmap', joined_dictionary=False, only_source=False, padding_factor=8, workers=4)\n",
      "| [tg] Dictionary: 24 types\n",
      "| [tg] /tmp/tmp4n42kbmptamgen-foundry-demo-output/src/test.tg: 5 sents, 135 tokens, 0.0% replaced by <unk>\n",
      "| [m1] Dictionary: 961 types\n",
      "| [m1] /tmp/tmp4n42kbmptamgen-foundry-demo-output/src/test.m1: 5 sents, 359 tokens, 0.0% replaced by <unk>\n",
      "| Wrote preprocessed data to /tmp/tmp4n42kbmptamgen-foundry-demo-output/tmp\n",
      "| Binarize coordinates /tmp/tmp4n42kbmptamgen-foundry-demo-output/src/test-coordinates.pkl to /tmp/tmp4n42kbmptamgen-foundry-demo-output/test.tg-m1.tg.coord.\n",
      "| Binarize coordinates /tmp/tmp4n42kbmptamgen-foundry-demo-output/src/test-sites.pkl to /tmp/tmp4n42kbmptamgen-foundry-demo-output/test.tg-m1.tg.sites.\n"
     ]
    }
   ],
   "source": [
    "from fairseq.build_dataset import build_dataset\n",
    "\n",
    "build_dataset(pdb_id, ligand_center, augmented_smiles, work_dir, output_dir)"
   ]
  },
  {
   "cell_type": "markdown",
   "metadata": {},
   "source": [
    "Query the AI Foundry endpoint with the processed data."
   ]
  },
  {
   "cell_type": "code",
   "execution_count": 10,
   "metadata": {},
   "outputs": [],
   "source": [
    "def prepare_payload(input_dir: Path):\n",
    "  payload = {}\n",
    "  for path in input_dir.iterdir():\n",
    "    if path.is_dir():\n",
    "      continue\n",
    "\n",
    "    with path.open('rb') as f:\n",
    "      payload[f\"inmemorycache/{path.name}\"] = base64.b64encode(f.read()).decode()\n",
    "\n",
    "  return json.dumps({ \"input_data\": payload })\n",
    "\n",
    "def query_endpoint(payload: str):\n",
    "  url = os.environ[\"FOUNDRY_URL\"]\n",
    "  api_key = os.environ[\"FOUNDRY_TOKEN\"]\n",
    "\n",
    "  headers = {\n",
    "    'Content-Type':'application/json',\n",
    "    'Authorization':('Bearer '+ api_key),\n",
    "  }\n",
    "  body = payload.encode()\n",
    "  req = urllib.request.Request(url, body, headers)\n",
    "\n",
    "  try:\n",
    "    response = urllib.request.urlopen(req)\n",
    "  except urllib.error.HTTPError as error:\n",
    "    print(f\"The request failed with status code: {error.code}\")\n",
    "    print(error.info())\n",
    "    print(error.read().decode(\"utf8\", 'ignore'))\n",
    "    result = None\n",
    "  else:\n",
    "    result = json.loads(response.read().decode())\n",
    "\n",
    "  return result\n",
    "\n",
    "payload = prepare_payload(Path(output_dir))\n",
    "result = query_endpoint(payload)"
   ]
  },
  {
   "cell_type": "code",
   "execution_count": 11,
   "metadata": {
    "scrolled": true
   },
   "outputs": [
    {
     "name": "stdout",
     "output_type": "stream",
     "text": [
      "{\n",
      "    \"result\": [\n",
      "        [\n",
      "            \"CCC1C(C(=O)Nc2cccc(S(=O)(=O)N(CC)CC)c2)=NC(C)=C1C(C)=O\",\n",
      "            -0.17983470112085342\n",
      "        ],\n",
      "        [\n",
      "            \"CCC1C(C(=O)Nc2cc(C(F)(F)F)cc(S(=O)(=O)N(CC)CC)c2)=NC(C)=C1C(C)=O\",\n",
      "            -0.18360529839992523\n",
      "        ],\n",
      "        [\n",
      "            \"CCC1C(C(=O)Nc2cc(C(F)(F)F)cc(S(=O)(=O)N(CC)CC)c2)=NC(C2CC2)=C1C(C)=O\",\n",
      "            -0.1895076036453247\n",
      "        ],\n",
      "        [\n",
      "            \"CCC1C(C(=O)Nc2cc(S(=O)(=O)N(CC)CC)ccc2N2CCN(C)CC2)=NC(C)=C1C(C)=O\",\n",
      "            -0.19663859903812408\n",
      "        ],\n",
      "        [\n",
      "            \"CC(=O)NC1=NC2=CC=C(c3cnc(N)c(C(F)(F)F)c3)CN2C1\",\n",
      "            -0.1998922973871231\n",
      "        ],\n",
      "        [\n",
      "            \"CC(=O)N1NC(N2CCC(C(=O)O)CC2)=NC1CCC1=NC2=C(C)C=C(Cl)C(C)N2N1\",\n",
      "            -0.20118975639343262\n",
      "        ],\n",
      "        [\n",
      "            \"CC(=O)NC1=NC2=CC=C(c3cnc(NC(=O)NC(C)(C)C)c(C(F)(F)F)c3)CN2C1\",\n",
      "            -0.20471671223640442\n",
      "        ],\n",
      "        [\n",
      "            \"CC(=O)NC1=NC2=CC=C(c3cnc(NC(C)(C)C)c(C(F)(F)F)c3)CN2C1\",\n",
      "            -0.2048395276069641\n",
      "        ],\n",
      "        [\n",
      "            \"CCC1C(C(=O)Nc2cc(S(=O)(=O)N(CC)CC)ccc2C)=NC(C)=C1C(C)=O\",\n",
      "            -0.20552777126431465\n",
      "        ],\n",
      "        [\n",
      "            \"CC1(C)CC(N=C(S)N2CCN(S(C)(=O)=O)CC2)CC(C)(C)N1O\",\n",
      "            -0.2066013902425766\n",
      "        ],\n",
      "        [\n",
      "            \"CCC1C(C(=O)Nc2cc(S(=O)(=O)N(CC)CC)cc(C(F)(F)F)c2C)=NC(C)=C1C(C)=O\",\n",
      "            -0.20663216710090637\n",
      "        ],\n",
      "        [\n",
      "            \"CC1=C2N=C(CCC3N=C(N4CCC(C(=O)O)CC4)C(C(F)(F)F)=C3C)NN2C(C)C(Cl)=C1\",\n",
      "            -0.20744773745536804\n",
      "        ],\n",
      "        [\n",
      "            \"CCC1C(C(=O)Nc2cccc(S(=O)(=O)N(CC)CC)c2)=NC(C2CC2)=C1C(C)=O\",\n",
      "            -0.20784834027290344\n",
      "        ],\n",
      "        [\n",
      "            \"CC1(C)CC(N=C(S)Nc2ccc(S(N)(=O)=O)cc2Cl)CC(C)(C)N1O\",\n",
      "            -0.2127117266257604\n",
      "        ],\n",
      "        [\n",
      "            \"CCC1C(C(=O)Nc2cc(S(=O)(=O)N(CC)CC)ccc2Cl)=NC(C)=C1C(C)=O\",\n",
      "            -0.21544521550337473\n",
      "        ],\n",
      "        [\n",
      "            \"CCC1C(C(=O)Nc2cc(C3CC3)cc(S(=O)(=O)N(CC)CC)c2)=NC(C)=C1C(C)=O\",\n",
      "            -0.2158695012331009\n",
      "        ],\n",
      "        [\n",
      "            \"CC(=O)NC1=NC2=CC=C(c3cnc(N)c(C(F)(F)F)c3)CN2C(C(F)(F)F)=C1\",\n",
      "            -0.21605360507965088\n",
      "        ],\n",
      "        [\n",
      "            \"CCC1C(C(=O)Nc2cc(S(=O)(=O)N(CC)CC)cc(C)c2C)=NC(C)=C1C(C)=O\",\n",
      "            -0.21638868749141693\n",
      "        ],\n",
      "        [\n",
      "            \"CC1(C)CC(N=C(S)N2CCN(S(=O)(=O)C3CC3)CC2)CC(C)(C)N1O\",\n",
      "            -0.21830260753631592\n",
      "        ],\n",
      "        [\n",
      "            \"CC1=C2N=C(CCC3N=C(N4CCCC4)C(C(F)(F)F)=C3C)NN2C(C(=O)O)C1\",\n",
      "            -0.21890848875045776\n",
      "        ],\n",
      "        [\n",
      "            \"CCC1C(C(=O)Nc2cc(S(=O)(=O)N(CC)CC)ccc2O)=NC(C)=C1C(=N)N\",\n",
      "            -0.2200488621989886\n",
      "        ],\n",
      "        [\n",
      "            \"CC1=C2N=C(CCC3N=C(N4CCCC4)NN3C)NN2C(C(=O)O)C(C)(C)S1\",\n",
      "            -0.22034471482038498\n",
      "        ],\n",
      "        [\n",
      "            \"CC1(C)CC(N=C(S)N2CCN(S(C)(=O)=O)CC2)CC(C)(C)N1\",\n",
      "            -0.22158232927322388\n",
      "        ],\n",
      "        [\n",
      "            \"NS(=O)(=O)c1c(F)c(F)c(N2CCC(N3CCCCC3)CC2)c(F)c1F\",\n",
      "            -0.2217119336128235\n",
      "        ],\n",
      "        [\n",
      "            \"CC1(C)CC(N=C(S)Nc2ccc(S(N)(=O)=O)cc2Cl)CC(C)(C)N1\",\n",
      "            -0.22172682881355285\n",
      "        ],\n",
      "        [\n",
      "            \"CC1=C2N=C(CCC3N=C(N4CCC(C(=O)O)CC4)NN3C)NN2C(C)C(Cl)=C1\",\n",
      "            -0.22210486233234406\n",
      "        ],\n",
      "        [\n",
      "            \"CCC1C(C(=O)Nc2cc(S(=O)(=O)N(CC)CC)c(C)cc2C)=NC(C)=C1C(C)=O\",\n",
      "            -0.22267916798591614\n",
      "        ],\n",
      "        [\n",
      "            \"CC1=C2N=C(CCC3N=C(N4CCC(C(F)(F)F)CC4)NN3C)NN2C(C(C)C)C(Cl)=C1\",\n",
      "            -0.2227846384048462\n",
      "        ],\n",
      "        [\n",
      "            \"CC(=O)NC1=NC2=CC=C(c3cnc(C)c(NS(C)(=O)=O)c3)CN2C1\",\n",
      "            -0.22349010407924652\n",
      "        ],\n",
      "        [\n",
      "            \"CC(=O)N1NC(N2CCCC2)=NC1CCC1=NC2=C(C)C=C(Cl)C(C)N2N1\",\n",
      "            -0.2242621382077535\n",
      "        ],\n",
      "        [\n",
      "            \"CC1=C2N=C(CCC3N=C(N4CCC(C(F)(F)F)CC4)NN3C)NN2C(C)C(Cl)=C1\",\n",
      "            -0.22609154134988785\n",
      "        ],\n",
      "        [\n",
      "            \"CCC1C(C(=O)Nc2cc(S(=O)(=O)N(CC)CC)ccc2O)=NC(C2CC2)=C1C(C)C\",\n",
      "            -0.22632759809494019\n",
      "        ],\n",
      "        [\n",
      "            \"CCC1C(C(=O)Nc2cccc(S(=O)(=O)N(CC)CC)c2)=NC(C2CC2)=C1C(C)C\",\n",
      "            -0.22672300040721893\n",
      "        ],\n",
      "        [\n",
      "            \"CC(=O)NC1=NC2=CC=C(c3cnc(N)c(C(F)(F)F)c3)CN2C(C(F)(F)F)C1\",\n",
      "            -0.22767896205186844\n",
      "        ],\n",
      "        [\n",
      "            \"CC1=C2N=C(CCC3N=C(N4CCCC4)NN3C(C)(C)C)NN2C(C)C(Cl)=C1\",\n",
      "            -0.22770659923553466\n",
      "        ],\n",
      "        [\n",
      "            \"CC1=C2N=C(CCC3N=C(N4CCC(C(=O)O)CC4)NN3C)NN2C(C(=O)O)C=C1\",\n",
      "            -0.2281339466571808\n",
      "        ],\n",
      "        [\n",
      "            \"CC1(C)CC(N=C(S)Nc2ccc(S(N)(=O)=O)cc2Cl)CC(C)(C)C1\",\n",
      "            -0.23300330340862274\n",
      "        ],\n",
      "        [\n",
      "            \"CC1=C2N=C(CCC3N=C(N4CCCC4)NN3C)NN2C(C(=O)O)C(C)(C)N1\",\n",
      "            -0.23389384895563126\n",
      "        ],\n",
      "        [\n",
      "            \"CC1=C2N=C(CCC3N=C(N4CCCC4)C(C(F)(F)F)=C3C)NN2C(C(=O)O)C=C1\",\n",
      "            -0.23481228947639465\n",
      "        ],\n",
      "        [\n",
      "            \"CC1(C)CC(N=C(S)Nc2ccc(S(N)(=O)=O)c(Cl)c2)CC(C)(C)N1\",\n",
      "            -0.23518375555674234\n",
      "        ],\n",
      "        [\n",
      "            \"CC1=C2N=C(CCC3N=C(N4CCCC4)C(C(F)(F)F)=C3C)NN2C(C(=O)O)=NC1\",\n",
      "            -0.23520071804523468\n",
      "        ],\n",
      "        [\n",
      "            \"CC1(C)CC(N=C(S)N2CCN(S(=O)(=O)C3CC3)CC2)CC(C)(C)N1\",\n",
      "            -0.23541834950447083\n",
      "        ],\n",
      "        [\n",
      "            \"NS(=O)(=O)c1c(F)c(F)c(N2CCC(C(=O)O)CC2)c(F)c1F\",\n",
      "            -0.23556335270404816\n",
      "        ],\n",
      "        [\n",
      "            \"CC1(C)CC(N=C(S)Nc2ccc(S(N)(=O)=O)cc2)CC(C)(C)N1O\",\n",
      "            -0.2365926206111908\n",
      "        ],\n",
      "        [\n",
      "            \"CC1=C2N=C(CCC3N=C(N4CCCC4)NN3C(C)C)NN2C(C)C(Cl)=C1\",\n",
      "            -0.23732593655586243\n",
      "        ],\n",
      "        [\n",
      "            \"CC1=C2N=C(CCC3N=C(N4CCCC4)NN3C(C)(C)C)NN2C(C(=O)O)C1\",\n",
      "            -0.23813211172819138\n",
      "        ],\n",
      "        [\n",
      "            \"CCC1=C(C(C)=O)C(C)=NC1C(=O)Nc1cc(S(=O)(=O)N(CC)CC)c(C)cn1\",\n",
      "            -0.2402724325656891\n",
      "        ],\n",
      "        [\n",
      "            \"CC1(C)CC(N=C(S)Nc2ccc(S(N)(=O)=O)cc2)CC(C)(C)N1\",\n",
      "            -0.24119445184866586\n",
      "        ],\n",
      "        [\n",
      "            \"CC1(C)CC(N=C(S)Nc2ccc(S(N)(=O)=O)c(Cl)c2)CC(C)(C)N1O\",\n",
      "            -0.24213607609272003\n",
      "        ],\n",
      "        [\n",
      "            \"CS(=O)(=O)N1CCN(Cc2ccc(C(F)(F)F)c(C(F)(F)F)c2)CC1\",\n",
      "            -0.24216048419475555\n",
      "        ],\n",
      "        [\n",
      "            \"CC1=C2N=C(CCC3N=C(N4CCCC4)NN3C)NN2C(C)C(Cl)=C1\",\n",
      "            -0.24615605175495148\n",
      "        ],\n",
      "        [\n",
      "            \"CC1(C)CN=C(N2CCN(S(C)(=O)=O)CC2)S1\",\n",
      "            -0.24991972744464874\n",
      "        ],\n",
      "        [\n",
      "            \"CC(=O)NC1=NC2=CC=C(c3cnc(N)c(C(F)(F)F)c3)CN2C(C)C1\",\n",
      "            -0.2564852833747864\n",
      "        ],\n",
      "        [\n",
      "            \"NS(=O)(=O)c1c(F)c(F)c(N2CC3(CCC3)C2)c(F)c1F\",\n",
      "            -0.25847068428993225\n",
      "        ],\n",
      "        [\n",
      "            \"CC1(C)CN=C(N2CCN(S(=O)(=O)C3CC3)CC2)S1\",\n",
      "            -0.25849172472953796\n",
      "        ],\n",
      "        [\n",
      "            \"CC(C)(C)S(=O)(=O)CCN1CCN(C(=O)C2CC2)CC1\",\n",
      "            -0.26105326414108276\n",
      "        ],\n",
      "        [\n",
      "            \"NS(=O)(=O)c1c(F)c(F)c(N2CCC(O)CC2)c(F)c1F\",\n",
      "            -0.26915645599365234\n",
      "        ]\n",
      "    ]\n",
      "}\n"
     ]
    }
   ],
   "source": [
    "print(json.dumps(result, indent=4))"
   ]
  },
  {
   "cell_type": "markdown",
   "metadata": {},
   "source": [
    "The structures of the generated molecules can be visualised using RDKit (only a subset of all generated molecules are shown here)."
   ]
  },
  {
   "cell_type": "code",
   "execution_count": 12,
   "metadata": {},
   "outputs": [
    {
     "data": {
      "image/png": "[encoded data removed]",
      "text/plain": [
       "<IPython.core.display.Image object>"
      ]
     },
     "execution_count": 12,
     "metadata": {},
     "output_type": "execute_result"
    }
   ],
   "source": [
    "from rdkit.Chem import Draw\n",
    "\n",
    "candidate_smiles, _ = zip(*result[\"result\"])\n",
    "candidate_molecules = [Chem.MolFromSmiles(v) for v in candidate_smiles]\n",
    "Draw.MolsToGridImage(candidate_molecules[:3], legends=candidate_smiles, molsPerRow=3, subImgSize=(400, 400))"
   ]
  },
  {
   "cell_type": "markdown",
   "metadata": {},
   "source": [
    "#### Docking\n",
    "\n",
    "We can analyse the conformation and orientation, also known as the \"pose\", of the generated molecules at the binding site of the target protein. The docking process is performed by [Autodock Vina](https://vina.scripps.edu/)."
   ]
  },
  {
   "cell_type": "code",
   "execution_count": 13,
   "metadata": {},
   "outputs": [],
   "source": [
    "from Bio.PDB import PDBIO, Select\n",
    "\n",
    "class CleanPDBSelect(Select):\n",
    "    def accept_atom(self, atom):\n",
    "        # Exclude water molecules (HOH) and heteroatoms\n",
    "        if atom.parent.resname == 'HOH' or atom.parent.id[0] != ' ':\n",
    "            return False\n",
    "        # Exclude alternate locations\n",
    "        if atom.altloc not in (' ', 'A'):\n",
    "            return False\n",
    "        return True\n",
    "\n",
    "def prepare_receptor(pdb_id: str, work_dir: str):\n",
    "    input_pdb = str(Path(work_dir) / f\"{pdb_id}.pdb\")\n",
    "    output_pdb = str(Path(work_dir) / f\"{pdb_id}.receptor.pdb\")\n",
    "\n",
    "    parser = PDBParser(QUIET=True)\n",
    "    structure = parser.get_structure('structure', input_pdb)\n",
    "\n",
    "    io = PDBIO()\n",
    "    io.set_structure(structure)\n",
    "    io.save(output_pdb, CleanPDBSelect())\n",
    "\n",
    "prepare_receptor(pdb_id, work_dir)"
   ]
  },
  {
   "cell_type": "code",
   "execution_count": 14,
   "metadata": {},
   "outputs": [
    {
     "name": "stderr",
     "output_type": "stream",
     "text": [
      "==============================\n",
      "*** Open Babel Warning  in WriteMolecule\n",
      "  No 2D or 3D coordinates exist. Stereochemical information will be stored using an Open Babel extension. To generate 2D or 3D coordinates instead use --gen2D or --gen3D.\n"
     ]
    },
    {
     "name": "stdout",
     "output_type": "stream",
     "text": [
      "Successfully docked: CCC1C(C(=O)Nc2cccc(S(=O)(=O)N(CC)CC)c2)=NC(C)=C1C(C)=O\n"
     ]
    },
    {
     "name": "stderr",
     "output_type": "stream",
     "text": [
      "1 molecule converted\n"
     ]
    }
   ],
   "source": [
    "from fairseq.docking import attempt_docking\n",
    "\n",
    "for candidate in candidate_smiles:\n",
    "    try:\n",
    "        attempt_docking(pdb_id, ligand_id, chain_id, candidate, ligand_center, work_dir, n_conf=1, timeout=45)\n",
    "    except TimeoutError:\n",
    "        continue\n",
    "    else:\n",
    "        print(f\"Successfully docked: {candidate}\")\n",
    "        break"
   ]
  },
  {
   "cell_type": "markdown",
   "metadata": {},
   "source": [
    "The docking pose of the generated molecule can be examined in the 3D structure viewer below."
   ]
  },
  {
   "cell_type": "code",
   "execution_count": 15,
   "metadata": {},
   "outputs": [
    {
     "data": {
      "application/vnd.jupyter.widget-view+json": {
       "model_id": "f749a98e9f6746e19963496bb8f5b594",
       "version_major": 2,
       "version_minor": 0
      },
      "text/plain": []
     },
     "metadata": {},
     "output_type": "display_data"
    },
    {
     "data": {
      "application/vnd.jupyter.widget-view+json": {
       "model_id": "1c4740de3f7f4c62967fcd7af89c8c66",
       "version_major": 2,
       "version_minor": 0
      },
      "text/plain": [
       "NGLWidget(layout=Layout(height='600px'))"
      ]
     },
     "metadata": {},
     "output_type": "display_data"
    }
   ],
   "source": [
    "import nglview\n",
    "\n",
    "view = nglview.NGLWidget()\n",
    "view.add_component(str(Path(work_dir) / f\"{pdb_id}.receptor.pdb\"))\n",
    "view.add_component(str(Path(work_dir) / f\"{ligand_id}_{chain_id}.sdf\"))\n",
    "\n",
    "view.layout.height = '600px'\n",
    "view"
   ]
  },
  {
   "cell_type": "code",
   "execution_count": null,
   "metadata": {},
   "outputs": [],
   "source": []
  }
 ],
 "metadata": {
  "kernelspec": {
   "display_name": "Python 3 (ipykernel)",
   "language": "python",
   "name": "python3"
  },
  "language_info": {
   "codemirror_mode": {
    "name": "ipython",
    "version": 3
   },
   "file_extension": ".py",
   "mimetype": "text/x-python",
   "name": "python",
   "nbconvert_exporter": "python",
   "pygments_lexer": "ipython3",
   "version": "3.9.21"
  }
 },
 "nbformat": 4,
 "nbformat_minor": 4
}
